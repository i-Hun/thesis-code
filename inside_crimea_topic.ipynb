{
 "cells": [
  {
   "cell_type": "code",
   "execution_count": 3,
   "metadata": {
    "ExecuteTime": {
     "end_time": "2018-06-13T14:26:10.283442Z",
     "start_time": "2018-06-13T14:26:09.535504Z"
    }
   },
   "outputs": [],
   "source": [
    "from pymongo import MongoClient\n",
    "import pandas as pd\n",
    "from bson.objectid import ObjectId\n",
    "import numpy as np\n",
    "from collections import defaultdict\n",
    "from tqdm import tnrange, tqdm_notebook"
   ]
  },
  {
   "cell_type": "markdown",
   "metadata": {},
   "source": [
    "Однако также не доделан последний абзац про Крым. Там нельзя так говорить. Тема очень грязная; в основном, там тексты про зимнее время, на которые и есть большинство комментариев, а также примешивается Pussy Riot. Нельзя писать то, чего нет. Продление дедлайна уже объявлено, я могу закончить 13го в первой половине дня, если будет следующая информация.\n",
    "\n",
    "Я предлагаю Вам разделить топ тексты Крыма (из файла) на три группы: 1. Крым. 2. Pussy Riot 3. Остальное (зимнее время и какая-то фигня). Про каждую группу нужны такие поля:\n",
    "1. Количество новостей\n",
    "2. Количество комментариев.\n",
    "3. Индекс негативности-позитивности по этой группе комментариев (соотв., без домножения на вероятность темы).\n",
    "4. Индекс controversy (тоже без домножения на тему). \n",
    "\n",
    "Посмотрим, что получится. Моя гипотеза: тексты Крыма вообще будут мало комментированы, причем не особо позитивно. А вот что там с другими подтемами, нет гипотез, я их не читала."
   ]
  },
  {
   "cell_type": "code",
   "execution_count": 6,
   "metadata": {
    "ExecuteTime": {
     "end_time": "2018-06-13T14:26:29.464214Z",
     "start_time": "2018-06-13T14:26:29.457954Z"
    }
   },
   "outputs": [],
   "source": [
    "db = MongoClient().thesis"
   ]
  },
  {
   "cell_type": "code",
   "execution_count": 4,
   "metadata": {
    "ExecuteTime": {
     "end_time": "2018-06-13T14:26:10.557633Z",
     "start_time": "2018-06-13T14:26:10.552797Z"
    }
   },
   "outputs": [],
   "source": [
    "urls = [\"http://www.omskinform.ru/news/66194\", \"http://www.omskinform.ru/news/64561\", \"http://www.omskinform.ru/news/65062\", \"http://www.bk55.ru/news/article/31930/\", \"http://www.omskinform.ru/news/64513\", \"http://www.omskinform.ru/news/64517\", \"http://www.omskinform.ru/news/64514\", \"http://www.bk55.ru/news/article/26127/\", \"http://gorod55.ru/news/article/0e86939b-dee5-46d0-fdad-56bbf989e7d6\", \"http://ngs55.ru/news/1395788/view/\", \"http://www.bk55.ru/news/article/30523/\", \"http://gorod55.ru/news/article/c5233ef4-2149-4778-a95e-573ac98ae311\", \"http://www.omskinform.ru/news/64516\", \"http://www.omskinform.ru/news/62121\", \"http://www.omskinform.ru/news/62127\", \"http://www.bk55.ru/news/article/31782/\", \"http://www.bk55.ru/news/article/36030/\", \"http://www.bk55.ru/news/article/29863/\", \"http://ngs55.ru/news/1791151/view/\", \"http://www.omskinform.ru/news/59030\", \"http://www.bk55.ru/news/article/31257/\", \"http://www.omskinform.ru/news/64510\", \"http://www.bk55.ru/news/article/29914/\", \"http://www.bk55.ru/news/article/30506/\", \"http://gorod55.ru/news/article/98aada45-1a29-4106-a9a3-790d8a78f043\", \"http://www.bk55.ru/mc2/news/article/1628\", \"http://www.bk55.ru/news/article/29465/\", \"http://www.bk55.ru/news/article/30486/\", \"http://gorod55.ru/news/article/8341d7b6-7632-4bdf-ef29-8e9ab99e4554\", \"http://gorod55.ru/news/article/b5050e39-49bd-41bb-f9c6-fb5c79dda28f\", \"http://www.bk55.ru/mc2/news/article/2343\", \"http://www.bk55.ru/news/article/29957/\", \"http://www.bk55.ru/news/article/34988/\", \"http://www.bk55.ru/news/article/31828/\", \"http://www.bk55.ru/news/article/21649/\", \"http://www.omskinform.ru/news/67556\", \"http://www.bk55.ru/news/article/29974/\", \"http://www.bk55.ru/news/article/26179/\", \"http://www.omskinform.ru/news/64506\", \"http://www.bk55.ru/news/article/26828/\", \"http://ngs55.ru/news/1851441/view/\", \"http://gorod55.ru/news/article/d46a7b75-28ee-42eb-d5d7-769bbc24c467\", \"http://www.omskinform.ru/news/65088\", \"http://www.bk55.ru/news/article/21683/\", \"http://www.omskinform.ru/news/64541\", \"http://www.bk55.ru/news/article/21525/\", \"http://www.omskinform.ru/news/64625\", \"http://www.bk55.ru/news/article/34050/\", \"http://gorod55.ru/news/article/6076a586-2880-41ec-a53e-5552b512a463\", \"http://www.bk55.ru/news/article/36971/\"]"
   ]
  },
  {
   "cell_type": "code",
   "execution_count": 16,
   "metadata": {
    "ExecuteTime": {
     "end_time": "2018-06-13T14:33:57.232844Z",
     "start_time": "2018-06-13T14:33:57.197408Z"
    },
    "code_folding": [
     1
    ]
   },
   "outputs": [],
   "source": [
    "# %load topics_by_id.py\n",
    "def get_topic_by_id(id):\n",
    "    TOPICS_NUMBERING = {\n",
    "        0: \"Accidents with children\",\n",
    "        1: \"Local authorities: appointments, resignations & statements\",\n",
    "        2: \"*Urban development (misc)\",\n",
    "        3: \"IT & military high tech\",\n",
    "        4: \"Fires\",\n",
    "        5: \"Urban demography & housing payments\",\n",
    "        6: \"Police actions drug, alcohol & counterfeit money crimes\",\n",
    "        7: \"Omsk region industrial developemnt\",\n",
    "        8: \"Ads of banking services\",\n",
    "        9: \"Holidays and VIP-weddingss\",\n",
    "        10: \"Trials on economic crime\",\n",
    "        11: \"Public transport and traffic\",\n",
    "        12: \"Weather\",\n",
    "        13: \"Yury Gamburg resignation\",\n",
    "        14: \"*NATO warships in Black sea, Russian rocket launch & contests\",\n",
    "        15: \"Regional parliament activities\",\n",
    "        16: \"Urban landscaping & greening\",\n",
    "        17: \"Schools, orphanages & child charity\",\n",
    "        18: \"Car sales\",\n",
    "        19: \"Car accidents\",\n",
    "        20: \"Education\",\n",
    "        21: \"Real estate: contruction\",\n",
    "        22: \"Art and literature\",\n",
    "        23: \"Street & bridge reconstruction & maintenance\",\n",
    "        24: \"Housing & the case of disabled Akhmetov\",\n",
    "        25: \"Stray dogs & doghunters\",\n",
    "        26: \"Urban events & openings\",\n",
    "        27: \"Crimea accession\",\n",
    "        28: \"Concerts\",\n",
    "        29: \"Sport, hockey\",\n",
    "        30: \"Hockey\",\n",
    "        31: \"Control & regulation of enterprises\",\n",
    "        32: \"Regional taxes & fuel prices\",\n",
    "        33: \"Missing persons announcements\",\n",
    "        34: \"Theaters & festivals\",\n",
    "        35: \"*Omsk media, plants & animals\",\n",
    "        36: \"Local authorities: appointments, resignations & statements\",\n",
    "        37: \"Macroeconomic events: currency rates & oil prices\",\n",
    "        38: \"Housing: heating\",\n",
    "        39: \"Russia, Ukraine & US international relations\",\n",
    "        40: \"Beauty contests & their winners\",\n",
    "        41: \"Arbitration court and the Mostovik case\",\n",
    "        42: \"*Military holidays\",\n",
    "        43: \"Criminal news\",\n",
    "        44: \"Movies and Movie stars\",\n",
    "        45: \"Olympic Games 2014 & Omsk athletes\",\n",
    "        46: \"Uninterpretable\",\n",
    "        47: \"Ivan Klimov’s murder\",\n",
    "        48: \"Abridgments of traffic law\",\n",
    "        49: \"Regional elections and misc.\"\n",
    "    }\n",
    "    return TOPICS_NUMBERING[id]"
   ]
  },
  {
   "cell_type": "code",
   "execution_count": 19,
   "metadata": {
    "ExecuteTime": {
     "end_time": "2018-06-13T14:35:31.787832Z",
     "start_time": "2018-06-13T14:35:30.944392Z"
    }
   },
   "outputs": [],
   "source": [
    "results = defaultdict(int)\n",
    "\n",
    "for num, url in enumerate(urls):\n",
    "    doc = db.final_db.find_one({\"url\": url})\n",
    "    \n",
    "    sent_scores = [comment[-1] for comment in doc[\"comments\"]]\n",
    "    comments_num = len(doc[\"comments\"])\n",
    "    \n",
    "    if comments_num:\n",
    "        avg_comment_sent = sum(sent_scores)/comments_num\n",
    "        avg_comment_std = np.std(sent_scores)\n",
    "\n",
    "        results[\"comments_num\"] += prob * comments_num           \n",
    "        results[\"avg_comment_sent\"] += prob * avg_comment_sent\n",
    "        results[\"avg_comment_std\"] += prob * avg_comment_std"
   ]
  },
  {
   "cell_type": "code",
   "execution_count": 20,
   "metadata": {
    "ExecuteTime": {
     "end_time": "2018-06-13T14:35:31.966306Z",
     "start_time": "2018-06-13T14:35:31.961046Z"
    }
   },
   "outputs": [
    {
     "data": {
      "text/plain": [
       "defaultdict(int,\n",
       "            {'comments_num': 0.09314814814814822,\n",
       "             'avg_comment_sent': 0.0015300015297133433,\n",
       "             'avg_comment_std': 0.0035818401730726038})"
      ]
     },
     "execution_count": 20,
     "metadata": {},
     "output_type": "execute_result"
    }
   ],
   "source": [
    "results"
   ]
  },
  {
   "cell_type": "code",
   "execution_count": 22,
   "metadata": {
    "ExecuteTime": {
     "end_time": "2018-06-13T14:50:44.125324Z",
     "start_time": "2018-06-13T14:50:44.073261Z"
    }
   },
   "outputs": [],
   "source": [
    "crimea_inside = pd.read_excel(\"inside_crimea_topic.xlsx\")"
   ]
  },
  {
   "cell_type": "code",
   "execution_count": 30,
   "metadata": {
    "ExecuteTime": {
     "end_time": "2018-06-13T14:53:45.576884Z",
     "start_time": "2018-06-13T14:53:45.565210Z"
    }
   },
   "outputs": [],
   "source": [
    "crimea_inside.fillna(0, inplace=True)"
   ]
  },
  {
   "cell_type": "code",
   "execution_count": 41,
   "metadata": {
    "ExecuteTime": {
     "end_time": "2018-06-13T15:00:43.515476Z",
     "start_time": "2018-06-13T15:00:43.480528Z"
    }
   },
   "outputs": [
    {
     "data": {
      "text/plain": [
       "{'_id': ObjectId('5489ddf737a808115d1eda4e'),\n",
       " 'title': 'Пиво с изображением героев войны решили не выпускать',\n",
       " 'url': 'http://www.omskinform.ru/news/66194',\n",
       " 'topics': {'0': 0.00013605442176870726,\n",
       "  '1': 0.00013605442176870726,\n",
       "  '2': 0.00013605442176870726,\n",
       "  '3': 0.00013605442176870726,\n",
       "  '4': 0.00013605442176870726,\n",
       "  '5': 0.00013605442176870726,\n",
       "  '6': 0.00013605442176870726,\n",
       "  '7': 0.00013605442176870726,\n",
       "  '8': 0.00013605442176870726,\n",
       "  '9': 0.00013605442176870726,\n",
       "  '10': 0.02742842740259543,\n",
       "  '11': 0.00013605442176870726,\n",
       "  '12': 0.00013605442176870726,\n",
       "  '13': 0.00013605442176870726,\n",
       "  '14': 0.00013605442176870726,\n",
       "  '15': 0.00013605442176870726,\n",
       "  '16': 0.00013605442176870726,\n",
       "  '17': 0.00013605442176870726,\n",
       "  '18': 0.00013605442176870726,\n",
       "  '19': 0.00013605442176870726,\n",
       "  '20': 0.00013605442176870726,\n",
       "  '21': 0.00013605442176870726,\n",
       "  '22': 0.00013605442176870726,\n",
       "  '23': 0.00013605442176870726,\n",
       "  '24': 0.00013605442176870726,\n",
       "  '25': 0.00013605442176870726,\n",
       "  '26': 0.00013605442176870726,\n",
       "  '27': 0.8827021188751123,\n",
       "  '28': 0.00013605442176870726,\n",
       "  '29': 0.00013605442176870726,\n",
       "  '30': 0.00013605442176870726,\n",
       "  '31': 0.07094523016573372,\n",
       "  '32': 0.00013605442176870726,\n",
       "  '33': 0.00013605442176870726,\n",
       "  '34': 0.00013605442176870726,\n",
       "  '35': 0.00013605442176870726,\n",
       "  '36': 0.00013605442176870726,\n",
       "  '37': 0.00013605442176870726,\n",
       "  '38': 0.00013605442176870726,\n",
       "  '39': 0.012665720155196696,\n",
       "  '40': 0.00013605442176870726,\n",
       "  '41': 0.00013605442176870726,\n",
       "  '42': 0.00013605442176870726,\n",
       "  '43': 0.00013605442176870726,\n",
       "  '44': 0.00013605442176870726,\n",
       "  '45': 0.00013605442176870726,\n",
       "  '46': 0.00013605442176870726,\n",
       "  '47': 0.00013605442176870726,\n",
       "  '48': 0.00013605442176870726,\n",
       "  '49': 0.00013605442176870726},\n",
       " 'comments': [['просто у современный маркетолог опилки вместо мозги.\\n', 0, 0],\n",
       "  ['зачем вымышленный имя? надо как можно много и везде использовать имя герой союз!!!!! ведь именно  благодаря они мы побеждать!\\n',\n",
       "   4,\n",
       "   1],\n",
       "  ['а ведь реально, некоторый молодежь кроме этикетка на пиво и водка ни что не читать, реально быть такой человек, мочь расчет быть на этот человек,чтобы хотя так помнить история? сейчас подвиг панфилова знать единица одаренный ребята, ради интерес мочь поспрашивать\\n',\n",
       "   0,\n",
       "   0],\n",
       "  ['надо! но не на пивной тара!\\n', 1, 1],\n",
       "  ['все правильно, хоть так молодняк напоминать о герой, много никак незаставлять прочитывать.\\n',\n",
       "   3,\n",
       "   0],\n",
       "  ['интересно, а молодняк для вы это кто? 10-25 год? вы-то наверное \"старичок\" с большой жизненный опыт?!\\n',\n",
       "   2,\n",
       "   1]],\n",
       " 'content': ['пиво',\n",
       "  'изображение',\n",
       "  'герой',\n",
       "  'война',\n",
       "  'решить',\n",
       "  'выпускать',\n",
       "  'компания',\n",
       "  'сан',\n",
       "  'инбеть',\n",
       "  'из-за',\n",
       "  'реакция',\n",
       "  'общественность',\n",
       "  'прокуратура',\n",
       "  'решить',\n",
       "  'прекратить',\n",
       "  'производство',\n",
       "  'партия',\n",
       "  'пиво',\n",
       "  'герой',\n",
       "  'великий',\n",
       "  'война',\n",
       "  'связь',\n",
       "  'реакция',\n",
       "  'общественность',\n",
       "  'компания',\n",
       "  'оао',\n",
       "  'сан',\n",
       "  'инбеть',\n",
       "  'распространить',\n",
       "  'официальный',\n",
       "  'заявление',\n",
       "  'сообщать',\n",
       "  'принять',\n",
       "  'внимание',\n",
       "  'озабоченность',\n",
       "  'общественность',\n",
       "  'связь',\n",
       "  'выпуск',\n",
       "  'коллекционный',\n",
       "  'партия',\n",
       "  'пиво',\n",
       "  'сибирский',\n",
       "  'корона',\n",
       "  'герой',\n",
       "  'великий',\n",
       "  'война',\n",
       "  'оао',\n",
       "  'сан',\n",
       "  'инбеть',\n",
       "  'прекращать',\n",
       "  'производство',\n",
       "  'компания',\n",
       "  'больший',\n",
       "  'уважение',\n",
       "  'относиться',\n",
       "  'память',\n",
       "  'герой',\n",
       "  'великий',\n",
       "  'отечественный',\n",
       "  'война',\n",
       "  'говориться',\n",
       "  'письмо',\n",
       "  'восхищаться',\n",
       "  'невероятный',\n",
       "  'силой',\n",
       "  'дух',\n",
       "  'мужество',\n",
       "  'канун',\n",
       "  'великий',\n",
       "  'победа',\n",
       "  'посчитать',\n",
       "  'необходимый',\n",
       "  'поделиться',\n",
       "  'история',\n",
       "  'подвиг',\n",
       "  'напомнить',\n",
       "  'современник',\n",
       "  'драматичный',\n",
       "  'страница',\n",
       "  'история',\n",
       "  'компания',\n",
       "  'выпустить',\n",
       "  'специальный',\n",
       "  'коллекционный',\n",
       "  'серия',\n",
       "  'герой',\n",
       "  'великий',\n",
       "  'война',\n",
       "  'рассказ',\n",
       "  'подвиг',\n",
       "  'основать',\n",
       "  'реальный',\n",
       "  'история',\n",
       "  'разместить',\n",
       "  'упаковка',\n",
       "  'пиво',\n",
       "  'сибирский',\n",
       "  'корона',\n",
       "  'оформление',\n",
       "  'использовать',\n",
       "  'фантазийный',\n",
       "  'изображение',\n",
       "  'имя',\n",
       "  'собственный',\n",
       "  'рассказ',\n",
       "  'изменить',\n",
       "  'автор',\n",
       "  'письмо',\n",
       "  'говорят',\n",
       "  'подвиг',\n",
       "  'ранний',\n",
       "  'известный',\n",
       "  'вспоминаться',\n",
       "  'реж',\n",
       "  'реж',\n",
       "  'видимо',\n",
       "  'необычный',\n",
       "  'способ',\n",
       "  'пивовар',\n",
       "  'решить',\n",
       "  'напомнить',\n",
       "  'подвиг',\n",
       "  'сообщать',\n",
       "  'риа',\n",
       "  'известно',\n",
       "  'выпуск',\n",
       "  'партия',\n",
       "  'пиво',\n",
       "  'изображение',\n",
       "  'герой',\n",
       "  'война',\n",
       "  'вызвать',\n",
       "  'бурный',\n",
       "  'реакция',\n",
       "  'общество',\n",
       "  'прокуратура',\n",
       "  'роскомнадзор',\n",
       "  'решить',\n",
       "  'провести',\n",
       "  'проверка',\n",
       "  'предмет',\n",
       "  'соответствие',\n",
       "  'законодательство',\n",
       "  'реклама',\n",
       "  'алкогольный',\n",
       "  'продукция'],\n",
       " 'source': 'omskinform',\n",
       " 'date': datetime.datetime(2014, 4, 28, 0, 0),\n",
       " 'commentsCount': 6,\n",
       " 'content_raw': 'Компания «САН ИнБев» из-за реакции общественности и прокуратуры решила прекратить производство партии пива «Герои великой войны». В связи с реакцией общественности компания ОАО «САН ИнБев» распространила официальное заявление, в котором сообщает, что, приняв во внимание озабоченность общественности в связи с выпуском коллекционной партии пива «Сибирская корона» «Герои великой войны», ОАО «САН ИнБев» прекращает его производство. – Компания с большим уважением относится к памяти Героев Великой Отечественной войны, – говорится в письме. – Мы восхищаемся их невероятной силой духа и мужеством. В канун Великой Победы мы посчитали необходимым поделиться историями подвигов и напомнить современникам о драматичных страницах нашей истории. Компания выпустила специальную коллекционную серию «Герои великой войны» с рассказами о подвигах, основанных на реальных историях, которые были размещены на упаковке пива «Сибирская Корона». В оформлении были использованы фантазийные изображения, а все имена собственные в рассказах – изменены. Авторы письма говорят о том, что подвиги, которые раньше были известны каждому, сейчас вспоминаются все реже и реже. Видимо, таким необычным способом пивовары решили напомнить о подвигах. Как уже сообщало РИА «Омск-Информ», после того как стало известно о выпуске партии пива с изображением героев войны, это вызвало бурную реакцию в обществе, а прокуратура и Роскомнадзор решили провести проверку на предмет соответствия законодательства о рекламе алкогольной продукции.'}"
      ]
     },
     "execution_count": 41,
     "metadata": {},
     "output_type": "execute_result"
    }
   ],
   "source": [
    "db.final_db.find_one({\"url\": urls[0]})"
   ]
  },
  {
   "cell_type": "code",
   "execution_count": 90,
   "metadata": {
    "ExecuteTime": {
     "end_time": "2018-06-13T15:24:41.492314Z",
     "start_time": "2018-06-13T15:24:41.488629Z"
    }
   },
   "outputs": [],
   "source": [
    "def f(row):\n",
    "#     print(row)\n",
    "    if row[\"Про Крым\"] == 1:\n",
    "        doc = db.final_db.find_one({\"url\": row[\"URL\"]})\n",
    "        return len(doc[\"comments\"])"
   ]
  },
  {
   "cell_type": "code",
   "execution_count": 91,
   "metadata": {
    "ExecuteTime": {
     "end_time": "2018-06-13T15:24:42.346517Z",
     "start_time": "2018-06-13T15:24:41.960606Z"
    }
   },
   "outputs": [
    {
     "data": {
      "text/plain": [
       "82.0"
      ]
     },
     "execution_count": 91,
     "metadata": {},
     "output_type": "execute_result"
    }
   ],
   "source": [
    "crimea_inside\\\n",
    "    .apply(f, axis=1).sum()"
   ]
  },
  {
   "cell_type": "code",
   "execution_count": 93,
   "metadata": {
    "ExecuteTime": {
     "end_time": "2018-06-13T15:33:45.949556Z",
     "start_time": "2018-06-13T15:33:45.142636Z"
    }
   },
   "outputs": [
    {
     "name": "stdout",
     "output_type": "stream",
     "text": [
      "Про Крым 0.5192602160010675 0.32926829268292684\n",
      "Про Pussy Riot 0.6745330214944028 0.11290322580645161\n",
      "Часовые пояса 0.6130613945004937 0.31063829787234043\n",
      "Пиво, ВОВ 0.7582417527118612 -0.008333333333333333\n",
      "Оппозиция, Навальный, 25/17 0.6959705453537527 0.375\n"
     ]
    }
   ],
   "source": [
    "for i in [\"Про Крым\", \"Про Pussy Riot\", \"Часовые пояса\", \"Пиво, ВОВ\", \"Оппозиция, Навальный, 25/17\"]:\n",
    "    sent_scores = []\n",
    "    for url in crimea_inside[crimea_inside[i] == 1][\"URL\"].tolist():\n",
    "        doc = db.final_db.find_one({\"url\": url})\n",
    "        sent_scores += [comment[-1] for comment in doc[\"comments\"]]\n",
    "#         sent_scores_sum = np.sum(sent_scores)\n",
    "\n",
    "    std = np.std(sent_scores)\n",
    "    mean = np.mean(sent_scores)\n",
    "    print(i, std, mean)"
   ]
  },
  {
   "cell_type": "code",
   "execution_count": 27,
   "metadata": {
    "ExecuteTime": {
     "end_time": "2018-06-13T14:52:34.273109Z",
     "start_time": "2018-06-13T14:52:34.267435Z"
    }
   },
   "outputs": [
    {
     "data": {
      "text/plain": [
       "['http://www.omskinform.ru/news/64561',\n",
       " 'http://www.omskinform.ru/news/65062',\n",
       " 'http://www.omskinform.ru/news/64513',\n",
       " 'http://www.omskinform.ru/news/64517',\n",
       " 'http://www.omskinform.ru/news/64514',\n",
       " 'http://gorod55.ru/news/article/0e86939b-dee5-46d0-fdad-56bbf989e7d6',\n",
       " 'http://gorod55.ru/news/article/c5233ef4-2149-4778-a95e-573ac98ae311',\n",
       " 'http://www.omskinform.ru/news/64516',\n",
       " 'http://www.bk55.ru/news/article/29863/',\n",
       " 'http://www.omskinform.ru/news/64510',\n",
       " 'http://www.bk55.ru/news/article/29914/',\n",
       " 'http://www.bk55.ru/news/article/30506/',\n",
       " 'http://www.bk55.ru/news/article/29465/',\n",
       " 'http://www.bk55.ru/news/article/30486/',\n",
       " 'http://gorod55.ru/news/article/b5050e39-49bd-41bb-f9c6-fb5c79dda28f',\n",
       " 'http://www.bk55.ru/mc2/news/article/2343',\n",
       " 'http://www.bk55.ru/news/article/29957/',\n",
       " 'http://www.bk55.ru/news/article/29974/',\n",
       " 'http://www.omskinform.ru/news/64506',\n",
       " 'http://www.omskinform.ru/news/64541',\n",
       " 'http://www.omskinform.ru/news/64625']"
      ]
     },
     "execution_count": 27,
     "metadata": {},
     "output_type": "execute_result"
    }
   ],
   "source": [
    "for url in crimea_inside[crimea_inside[\"Про Крым\"] == 1][\"URL\"].tolist():\n",
    "    "
   ]
  },
  {
   "cell_type": "code",
   "execution_count": null,
   "metadata": {},
   "outputs": [],
   "source": []
  }
 ],
 "metadata": {
  "kernelspec": {
   "display_name": "Python 3",
   "language": "python",
   "name": "python3"
  },
  "language_info": {
   "codemirror_mode": {
    "name": "ipython",
    "version": 3
   },
   "file_extension": ".py",
   "mimetype": "text/x-python",
   "name": "python",
   "nbconvert_exporter": "python",
   "pygments_lexer": "ipython3",
   "version": "3.6.5"
  },
  "toc": {
   "nav_menu": {},
   "number_sections": true,
   "sideBar": true,
   "skip_h1_title": false,
   "toc_cell": false,
   "toc_position": {},
   "toc_section_display": "block",
   "toc_window_display": false
  }
 },
 "nbformat": 4,
 "nbformat_minor": 2
}
